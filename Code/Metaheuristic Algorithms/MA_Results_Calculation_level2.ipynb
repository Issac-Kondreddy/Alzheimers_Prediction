{
 "cells": [
  {
   "cell_type": "code",
   "id": "initial_id",
   "metadata": {
    "collapsed": true,
    "ExecuteTime": {
     "end_time": "2024-04-10T17:09:59.461024Z",
     "start_time": "2024-04-10T17:09:59.170856Z"
    }
   },
   "source": "import pandas as pd",
   "outputs": [],
   "execution_count": 1
  },
  {
   "metadata": {
    "ExecuteTime": {
     "end_time": "2024-04-10T17:10:19.540613Z",
     "start_time": "2024-04-10T17:10:19.397892Z"
    }
   },
   "cell_type": "code",
   "source": [
    "df = pd.read_excel(\"/Users/issackondreddy/Desktop/Education/Projects/Cancer Detection/Docs/Level_2_MA_Selection.xlsx\")\n",
    "for function in df['Benchmark Function'].unique():\n",
    "    func_df = df[df['Benchmark Function'] == function]\n",
    "    for col in ['Best Fitness', 'Average Fitness', 'Standard Deviation']:\n",
    "        min_val = func_df[col].min()\n",
    "        max_val = func_df[col].max()\n",
    "        df.loc[func_df.index, col + ' Norm'] = (func_df[col] - min_val) / (max_val - min_val)\n",
    "    # Invert 'Convergence Generation'\n",
    "    min_val = func_df['Convergence Generation'].min()\n",
    "    max_val = func_df['Convergence Generation'].max()\n",
    "    df.loc[func_df.index, 'Convergence Generation Norm'] = 1 - (func_df['Convergence Generation'] - min_val) / (max_val - min_val)\n",
    "\n",
    "# Rank the normalized values\n",
    "for col in ['Best Fitness Norm', 'Average Fitness Norm', 'Standard Deviation Norm', 'Convergence Generation Norm']:\n",
    "    df[col + ' Rank'] = df.groupby('Benchmark Function')[col].rank()\n",
    "\n",
    "# Calculate weighted score with your weights\n",
    "df['Weighted Score'] = (\n",
    "    df['Best Fitness Norm Rank'] * 0.5 + \n",
    "    df['Average Fitness Norm Rank'] * 0.3 + \n",
    "    df['Convergence Generation Norm Rank'] * 0.1 +\n",
    "    df['Standard Deviation Norm Rank'] * 0.1\n",
    ")\n",
    "\n",
    "# Sort and select top MAs\n",
    "top_mAs = df.sort_values(by='Weighted Score').groupby('Benchmark Function').head(5)\n"
   ],
   "id": "ffa51034e32abc07",
   "outputs": [],
   "execution_count": 2
  },
  {
   "metadata": {
    "ExecuteTime": {
     "end_time": "2024-04-10T17:10:20.674617Z",
     "start_time": "2024-04-10T17:10:20.660794Z"
    }
   },
   "cell_type": "code",
   "source": "df.head()",
   "id": "429a8647007b9dd8",
   "outputs": [
    {
     "data": {
      "text/plain": [
       "                                   Algorithms Benchmark Function  \\\n",
       "0  Genetic Algorithm -> Salp Swarm Algorithm              Sphere   \n",
       "1                                         NaN             Ackley   \n",
       "2                                         NaN          Rastrigin   \n",
       "3                                         NaN         Rosenbrock   \n",
       "4  Genetic Algorithm → Differential Evolution             Sphere   \n",
       "\n",
       "   Best Fitness  Average Fitness  Standard Deviation  Convergence Generation  \\\n",
       "0  3.087797e+03     4.731199e+03        6.656306e+03                      52   \n",
       "1  1.864000e+01     1.925000e+01        6.400000e-01                      66   \n",
       "2  4.394395e+03     5.716790e+03        6.554213e+03                      60   \n",
       "3  2.914422e+07     3.519801e+08        2.551884e+09                      67   \n",
       "4  1.335137e+04     2.190882e+04        1.233447e+04                       4   \n",
       "\n",
       "   Best Fitness Norm  Average Fitness Norm  Standard Deviation Norm  \\\n",
       "0           0.106846                   0.0                  0.00000   \n",
       "1           0.000000                   0.0                  1.00000   \n",
       "2           0.587154                   0.0                  0.00000   \n",
       "3           0.000000                   0.0                  0.00000   \n",
       "4           1.000000                   1.0                  0.43071   \n",
       "\n",
       "   Convergence Generation Norm  Best Fitness Norm Rank  \\\n",
       "0                     0.250000                     2.0   \n",
       "1                     0.000000                     1.0   \n",
       "2                     0.283951                     2.0   \n",
       "3                     0.344086                     1.0   \n",
       "4                     1.000000                     3.0   \n",
       "\n",
       "   Average Fitness Norm Rank  Standard Deviation Norm Rank  \\\n",
       "0                        1.0                           1.0   \n",
       "1                        1.0                           3.0   \n",
       "2                        1.0                           1.0   \n",
       "3                        1.0                           1.0   \n",
       "4                        3.0                           2.0   \n",
       "\n",
       "   Convergence Generation Norm Rank  Weighted Score  \n",
       "0                               2.0             1.6  \n",
       "1                               1.0             1.2  \n",
       "2                               2.0             1.6  \n",
       "3                               2.0             1.1  \n",
       "4                               3.0             2.9  "
      ],
      "text/html": [
       "<div>\n",
       "<style scoped>\n",
       "    .dataframe tbody tr th:only-of-type {\n",
       "        vertical-align: middle;\n",
       "    }\n",
       "\n",
       "    .dataframe tbody tr th {\n",
       "        vertical-align: top;\n",
       "    }\n",
       "\n",
       "    .dataframe thead th {\n",
       "        text-align: right;\n",
       "    }\n",
       "</style>\n",
       "<table border=\"1\" class=\"dataframe\">\n",
       "  <thead>\n",
       "    <tr style=\"text-align: right;\">\n",
       "      <th></th>\n",
       "      <th>Algorithms</th>\n",
       "      <th>Benchmark Function</th>\n",
       "      <th>Best Fitness</th>\n",
       "      <th>Average Fitness</th>\n",
       "      <th>Standard Deviation</th>\n",
       "      <th>Convergence Generation</th>\n",
       "      <th>Best Fitness Norm</th>\n",
       "      <th>Average Fitness Norm</th>\n",
       "      <th>Standard Deviation Norm</th>\n",
       "      <th>Convergence Generation Norm</th>\n",
       "      <th>Best Fitness Norm Rank</th>\n",
       "      <th>Average Fitness Norm Rank</th>\n",
       "      <th>Standard Deviation Norm Rank</th>\n",
       "      <th>Convergence Generation Norm Rank</th>\n",
       "      <th>Weighted Score</th>\n",
       "    </tr>\n",
       "  </thead>\n",
       "  <tbody>\n",
       "    <tr>\n",
       "      <th>0</th>\n",
       "      <td>Genetic Algorithm -&gt; Salp Swarm Algorithm</td>\n",
       "      <td>Sphere</td>\n",
       "      <td>3.087797e+03</td>\n",
       "      <td>4.731199e+03</td>\n",
       "      <td>6.656306e+03</td>\n",
       "      <td>52</td>\n",
       "      <td>0.106846</td>\n",
       "      <td>0.0</td>\n",
       "      <td>0.00000</td>\n",
       "      <td>0.250000</td>\n",
       "      <td>2.0</td>\n",
       "      <td>1.0</td>\n",
       "      <td>1.0</td>\n",
       "      <td>2.0</td>\n",
       "      <td>1.6</td>\n",
       "    </tr>\n",
       "    <tr>\n",
       "      <th>1</th>\n",
       "      <td>NaN</td>\n",
       "      <td>Ackley</td>\n",
       "      <td>1.864000e+01</td>\n",
       "      <td>1.925000e+01</td>\n",
       "      <td>6.400000e-01</td>\n",
       "      <td>66</td>\n",
       "      <td>0.000000</td>\n",
       "      <td>0.0</td>\n",
       "      <td>1.00000</td>\n",
       "      <td>0.000000</td>\n",
       "      <td>1.0</td>\n",
       "      <td>1.0</td>\n",
       "      <td>3.0</td>\n",
       "      <td>1.0</td>\n",
       "      <td>1.2</td>\n",
       "    </tr>\n",
       "    <tr>\n",
       "      <th>2</th>\n",
       "      <td>NaN</td>\n",
       "      <td>Rastrigin</td>\n",
       "      <td>4.394395e+03</td>\n",
       "      <td>5.716790e+03</td>\n",
       "      <td>6.554213e+03</td>\n",
       "      <td>60</td>\n",
       "      <td>0.587154</td>\n",
       "      <td>0.0</td>\n",
       "      <td>0.00000</td>\n",
       "      <td>0.283951</td>\n",
       "      <td>2.0</td>\n",
       "      <td>1.0</td>\n",
       "      <td>1.0</td>\n",
       "      <td>2.0</td>\n",
       "      <td>1.6</td>\n",
       "    </tr>\n",
       "    <tr>\n",
       "      <th>3</th>\n",
       "      <td>NaN</td>\n",
       "      <td>Rosenbrock</td>\n",
       "      <td>2.914422e+07</td>\n",
       "      <td>3.519801e+08</td>\n",
       "      <td>2.551884e+09</td>\n",
       "      <td>67</td>\n",
       "      <td>0.000000</td>\n",
       "      <td>0.0</td>\n",
       "      <td>0.00000</td>\n",
       "      <td>0.344086</td>\n",
       "      <td>1.0</td>\n",
       "      <td>1.0</td>\n",
       "      <td>1.0</td>\n",
       "      <td>2.0</td>\n",
       "      <td>1.1</td>\n",
       "    </tr>\n",
       "    <tr>\n",
       "      <th>4</th>\n",
       "      <td>Genetic Algorithm → Differential Evolution</td>\n",
       "      <td>Sphere</td>\n",
       "      <td>1.335137e+04</td>\n",
       "      <td>2.190882e+04</td>\n",
       "      <td>1.233447e+04</td>\n",
       "      <td>4</td>\n",
       "      <td>1.000000</td>\n",
       "      <td>1.0</td>\n",
       "      <td>0.43071</td>\n",
       "      <td>1.000000</td>\n",
       "      <td>3.0</td>\n",
       "      <td>3.0</td>\n",
       "      <td>2.0</td>\n",
       "      <td>3.0</td>\n",
       "      <td>2.9</td>\n",
       "    </tr>\n",
       "  </tbody>\n",
       "</table>\n",
       "</div>"
      ]
     },
     "execution_count": 3,
     "metadata": {},
     "output_type": "execute_result"
    }
   ],
   "execution_count": 3
  },
  {
   "metadata": {
    "ExecuteTime": {
     "end_time": "2024-04-10T17:11:05.297837Z",
     "start_time": "2024-04-10T17:11:05.284031Z"
    }
   },
   "cell_type": "code",
   "source": [
    "output_file_path = \"/Users/issackondreddy/Desktop/Education/Projects/Cancer Detection/Docs/Level_2_MA_Selection.xlsx\"\n",
    "\n",
    "# Save the DataFrame to a CSV file\n",
    "df.to_excel(output_file_path, index=False)"
   ],
   "id": "934d66c93bced55c",
   "outputs": [],
   "execution_count": 5
  },
  {
   "metadata": {
    "ExecuteTime": {
     "end_time": "2024-04-10T17:11:07.601972Z",
     "start_time": "2024-04-10T17:11:07.595615Z"
    }
   },
   "cell_type": "code",
   "source": [
    "clean_df = df.dropna(subset=['Algorithms', 'Weighted Score']).copy()\n",
    "\n",
    "# Calculate the min and max for normalization\n",
    "min_score = clean_df['Weighted Score'].min()\n",
    "max_score = clean_df['Weighted Score'].max()\n",
    "\n",
    "# Use .loc to avoid SettingWithCopyWarning\n",
    "clean_df.loc[:, 'Normalized Weighted Score'] = (clean_df['Weighted Score'] - min_score) / (max_score - min_score)\n",
    "\n",
    "# Sort by 'Normalized Weighted Score' in ascending order to get the best scores first\n",
    "sorted_clean_df = clean_df.sort_values(by='Normalized Weighted Score', ascending=True)\n",
    "\n",
    "# Drop duplicate 'Algorithm' entries, keeping the first occurrence\n",
    "top_unique_MAs = sorted_clean_df.drop_duplicates(subset='Algorithms')\n",
    "\n",
    "# Select the top 3 MAs with the lowest normalized weighted score\n",
    "top_3_MAs = top_unique_MAs.head(3)\n",
    "\n",
    "# Display the top 3 MAs\n",
    "print(top_3_MAs[['Algorithms', 'Benchmark Function', 'Normalized Weighted Score']])"
   ],
   "id": "51a60f775950e467",
   "outputs": [
    {
     "name": "stdout",
     "output_type": "stream",
     "text": [
      "                                      Algorithms Benchmark Function  \\\n",
      "8  Salp Swarm Algorithm → Differential Evolution             Sphere   \n",
      "0     Genetic Algorithm -> Salp Swarm Algorithm              Sphere   \n",
      "4     Genetic Algorithm → Differential Evolution             Sphere   \n",
      "\n",
      "   Normalized Weighted Score  \n",
      "8                   0.000000  \n",
      "0                   0.071429  \n",
      "4                   1.000000  \n"
     ]
    }
   ],
   "execution_count": 6
  },
  {
   "metadata": {
    "ExecuteTime": {
     "end_time": "2024-04-10T17:11:08.825847Z",
     "start_time": "2024-04-10T17:11:08.823534Z"
    }
   },
   "cell_type": "code",
   "source": "",
   "id": "6ddb7c1fa23e7f1e",
   "outputs": [],
   "execution_count": 6
  },
  {
   "metadata": {},
   "cell_type": "code",
   "outputs": [],
   "execution_count": null,
   "source": "",
   "id": "2da19c9bfe6ad878"
  }
 ],
 "metadata": {
  "kernelspec": {
   "display_name": "Python 3",
   "language": "python",
   "name": "python3"
  },
  "language_info": {
   "codemirror_mode": {
    "name": "ipython",
    "version": 2
   },
   "file_extension": ".py",
   "mimetype": "text/x-python",
   "name": "python",
   "nbconvert_exporter": "python",
   "pygments_lexer": "ipython2",
   "version": "2.7.6"
  }
 },
 "nbformat": 4,
 "nbformat_minor": 5
}
