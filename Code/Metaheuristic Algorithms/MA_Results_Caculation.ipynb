{
 "cells": [
  {
   "cell_type": "code",
   "execution_count": null,
   "id": "initial_id",
   "metadata": {
    "collapsed": true
   },
   "outputs": [],
   "source": [
    "import pandas as pd"
   ]
  },
  {
   "cell_type": "code",
   "outputs": [],
   "source": [],
   "metadata": {
    "collapsed": false
   },
   "id": "d10adf3f1ebcf0da"
  },
  {
   "cell_type": "code",
   "outputs": [],
   "source": [
    "df = pd.read_excel(\"/Users/issackondreddy/Desktop/Education/Projects/Cancer Detection/Docs/MA Results.xlsx\")\n",
    "for function in df['Benchmark Function'].unique():\n",
    "    func_df = df[df['Benchmark Function'] == function]\n",
    "    for col in ['Best Fitness', 'Average Fitness', 'Standard Deviation']:\n",
    "        min_val = func_df[col].min()\n",
    "        max_val = func_df[col].max()\n",
    "        df.loc[func_df.index, col + ' Norm'] = (func_df[col] - min_val) / (max_val - min_val)\n",
    "    # Invert 'Convergence Generation'\n",
    "    min_val = func_df['Convergence Generation'].min()\n",
    "    max_val = func_df['Convergence Generation'].max()\n",
    "    df.loc[func_df.index, 'Convergence Generation Norm'] = 1 - (func_df['Convergence Generation'] - min_val) / (max_val - min_val)\n",
    "\n",
    "# Rank the normalized values\n",
    "for col in ['Best Fitness Norm', 'Average Fitness Norm', 'Standard Deviation Norm', 'Convergence Generation Norm']:\n",
    "    df[col + ' Rank'] = df.groupby('Benchmark Function')[col].rank()\n",
    "\n",
    "# Calculate weighted score with your weights\n",
    "df['Weighted Score'] = (\n",
    "    df['Best Fitness Norm Rank'] * 0.5 + \n",
    "    df['Average Fitness Norm Rank'] * 0.3 + \n",
    "    df['Convergence Generation Norm Rank'] * 0.1 +\n",
    "    df['Standard Deviation Norm Rank'] * 0.1\n",
    ")\n",
    "\n",
    "# Sort and select top MAs\n",
    "top_mAs = df.sort_values(by='Weighted Score').groupby('Benchmark Function').head(5)\n"
   ],
   "metadata": {
    "collapsed": false
   },
   "id": "ada13a96388683f7",
   "execution_count": null
  },
  {
   "cell_type": "code",
   "outputs": [],
   "source": [
    "df.head()"
   ],
   "metadata": {
    "collapsed": false
   },
   "id": "1fcfc0582473a09e",
   "execution_count": null
  },
  {
   "cell_type": "code",
   "outputs": [],
   "source": [
    "output_file_path = \"/Users/issackondreddy/Desktop/Education/Projects/Cancer Detection/Docs/MA_Results_Summary.xlsx\"\n",
    "\n",
    "# Save the DataFrame to a CSV file\n",
    "df.to_excel(output_file_path, index=False)"
   ],
   "metadata": {
    "collapsed": false
   },
   "id": "28795116d677b736",
   "execution_count": null
  },
  {
   "cell_type": "code",
   "outputs": [
    {
     "name": "stdout",
     "output_type": "stream",
     "text": [
      "                 Algorithm Benchmark Function  Normalized Weighted Score\n",
      "0        Genetic Algorithm             Sphere                   0.000000\n",
      "64    Salp swarm Algorithm             Sphere                   0.154321\n",
      "20  Differential Evolution             Sphere                   0.225309\n"
     ]
    }
   ],
   "source": [
    "clean_df = df.dropna(subset=['Algorithm', 'Weighted Score']).copy()\n",
    "\n",
    "# Calculate the min and max for normalization\n",
    "min_score = clean_df['Weighted Score'].min()\n",
    "max_score = clean_df['Weighted Score'].max()\n",
    "\n",
    "# Use .loc to avoid SettingWithCopyWarning\n",
    "clean_df.loc[:, 'Normalized Weighted Score'] = (clean_df['Weighted Score'] - min_score) / (max_score - min_score)\n",
    "\n",
    "# Sort by 'Normalized Weighted Score' in ascending order to get the best scores first\n",
    "sorted_clean_df = clean_df.sort_values(by='Normalized Weighted Score', ascending=True)\n",
    "\n",
    "# Drop duplicate 'Algorithm' entries, keeping the first occurrence\n",
    "top_unique_MAs = sorted_clean_df.drop_duplicates(subset='Algorithm')\n",
    "\n",
    "# Select the top 3 MAs with the lowest normalized weighted score\n",
    "top_3_MAs = top_unique_MAs.head(3)\n",
    "\n",
    "# Display the top 3 MAs\n",
    "print(top_3_MAs[['Algorithm', 'Benchmark Function', 'Normalized Weighted Score']])"
   ],
   "metadata": {
    "collapsed": false,
    "ExecuteTime": {
     "end_time": "2024-03-26T20:39:58.155742Z",
     "start_time": "2024-03-26T20:39:58.141424Z"
    }
   },
   "id": "891007ea424fa65a",
   "execution_count": 8
  },
  {
   "cell_type": "code",
   "outputs": [],
   "source": [],
   "metadata": {
    "collapsed": false
   },
   "id": "f0ef47c8bbaa8332"
  },
  {
   "cell_type": "code",
   "outputs": [],
   "source": [],
   "metadata": {
    "collapsed": false
   },
   "id": "aa45b4acf1581fd5"
  }
 ],
 "metadata": {
  "kernelspec": {
   "display_name": "Python 3",
   "language": "python",
   "name": "python3"
  },
  "language_info": {
   "codemirror_mode": {
    "name": "ipython",
    "version": 2
   },
   "file_extension": ".py",
   "mimetype": "text/x-python",
   "name": "python",
   "nbconvert_exporter": "python",
   "pygments_lexer": "ipython2",
   "version": "2.7.6"
  }
 },
 "nbformat": 4,
 "nbformat_minor": 5
}
