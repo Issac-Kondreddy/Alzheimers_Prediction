{
 "cells": [
  {
   "cell_type": "code",
   "id": "initial_id",
   "metadata": {
    "collapsed": true,
    "ExecuteTime": {
     "end_time": "2024-04-16T03:48:30.557917Z",
     "start_time": "2024-04-16T03:48:27.012591Z"
    }
   },
   "source": [
    "import sys\n",
    "sys.path.append('../Metaheuristic Algorithms/') \n",
    "import numpy as np\n",
    "import tensorflow as tf\n",
    "from tensorflow.keras.utils import to_categorical\n",
    "from tensorflow.keras.models import Sequential\n",
    "from tensorflow.keras.layers import Conv2D, MaxPooling2D, Dropout, Flatten, Dense\n",
    "from DESSA import DESSA  # Importing your DESSA class from the DESSA.py file\n",
    "from tensorflow.keras.preprocessing.image import ImageDataGenerator"
   ],
   "outputs": [],
   "execution_count": 1
  },
  {
   "metadata": {
    "ExecuteTime": {
     "end_time": "2024-04-16T03:49:38.382364Z",
     "start_time": "2024-04-16T03:49:38.318547Z"
    }
   },
   "cell_type": "code",
   "source": [
    "# Create an instance of the ImageDataGenerator for data normalization and augmentation\n",
    "train_datagen = ImageDataGenerator(\n",
    "    rescale=1./255,   # Normalize pixel values to be between 0 and 1\n",
    "    validation_split=0.2  # Use 20% of the data for validation\n",
    ")\n",
    "\n",
    "# Define the path to your dataset directory\n",
    "train_directory = '/Users/issackondreddy/Desktop/Education/Projects/Cancer Detection/Data/Dataset'\n",
    "\n",
    "# Setup the training data generator\n",
    "train_generator = train_datagen.flow_from_directory(\n",
    "    train_directory,\n",
    "    target_size=(32, 32),  # Resize images to 32x32 for model compatibility\n",
    "    batch_size=4,  # Smaller batch size for quick testing\n",
    "    class_mode='categorical',  # Multi-class classification\n",
    "    subset='training',  # Use the training subset of images\n",
    "    shuffle=True  # Shuffle the images to reduce model bias\n",
    ")\n",
    "\n",
    "# Setup the validation data generator\n",
    "validation_generator = train_datagen.flow_from_directory(\n",
    "    train_directory,\n",
    "    target_size=(32, 32),\n",
    "    batch_size=4,  # Consistent batch size with training for simplicity\n",
    "    class_mode='categorical',\n",
    "    subset='validation',  # Use the validation subset of images\n",
    "    shuffle=True\n",
    ")"
   ],
   "id": "ae5e59c5d7d14dd",
   "outputs": [
    {
     "name": "stdout",
     "output_type": "stream",
     "text": [
      "Found 5121 images belonging to 4 classes.\n",
      "Found 1279 images belonging to 4 classes.\n"
     ]
    }
   ],
   "execution_count": 3
  },
  {
   "metadata": {
    "ExecuteTime": {
     "end_time": "2024-04-16T03:51:38.565913Z",
     "start_time": "2024-04-16T03:51:38.559169Z"
    }
   },
   "cell_type": "code",
   "source": [
    "# Define a function to create a convolutional neural network model based on input parameters\n",
    "def create_cnn_model(params, input_shape=(32, 32, 3), num_classes=4):\n",
    "    num_filters, filter_size, dropout_rate = int(params[0]), int(params[1]), float(params[2])\n",
    "    model = Sequential([\n",
    "        Conv2D(num_filters, (filter_size, filter_size), padding='same', activation='relu', input_shape=input_shape),\n",
    "        MaxPooling2D(pool_size=(2, 2)),\n",
    "        Dropout(dropout_rate),\n",
    "        Flatten(),\n",
    "        Dense(256, activation='relu'),\n",
    "        Dropout(0.5),\n",
    "        Dense(num_classes, activation='softmax')\n",
    "    ])\n",
    "    model.compile(optimizer='adam', loss='categorical_crossentropy', metrics=['accuracy'])\n",
    "    return model"
   ],
   "id": "408bb94d1639e2a3",
   "outputs": [],
   "execution_count": 6
  },
  {
   "metadata": {
    "ExecuteTime": {
     "end_time": "2024-04-16T03:53:23.069453Z",
     "start_time": "2024-04-16T03:53:06.478885Z"
    }
   },
   "cell_type": "code",
   "source": [
    "# Define parameter bounds for the DESSA optimization algorithm\n",
    "bounds = [(16, 64), (2, 5), (0.1, 0.5)]\n",
    "\n",
    "# Initialize the DESSA optimizer with a simple objective function\n",
    "dessa_optimizer = DESSA(lambda params: -create_cnn_model(params).evaluate(validation_generator, steps=1)[1],\n",
    "                        bounds, population_size=5, iterations=10)\n",
    "\n",
    "# Run the optimization process\n",
    "best_params, best_fitness, fitness_history = dessa_optimizer.optimize()\n",
    "\n",
    "# Print the best parameters and the corresponding fitness value\n",
    "print(\"Best Parameters:\", best_params)\n",
    "print(\"Best Validation Accuracy:\", -best_fitness)"
   ],
   "id": "9412fafb82f42c4",
   "outputs": [
    {
     "name": "stdout",
     "output_type": "stream",
     "text": [
      "1/1 [==============================] - 0s 120ms/step - loss: 1.3873 - accuracy: 0.5000\n",
      "1/1 [==============================] - 0s 121ms/step - loss: 1.4487 - accuracy: 0.0000e+00\n",
      "1/1 [==============================] - 0s 117ms/step - loss: 1.4434 - accuracy: 0.2500\n",
      "1/1 [==============================] - 0s 115ms/step - loss: 1.2679 - accuracy: 0.7500\n",
      "1/1 [==============================] - 0s 111ms/step - loss: 1.2929 - accuracy: 0.5000\n",
      "1/1 [==============================] - 0s 118ms/step - loss: 1.3688 - accuracy: 0.5000\n",
      "1/1 [==============================] - 0s 113ms/step - loss: 1.3399 - accuracy: 0.7500\n",
      "1/1 [==============================] - 0s 111ms/step - loss: 1.3184 - accuracy: 0.2500\n",
      "1/1 [==============================] - 0s 114ms/step - loss: 1.2534 - accuracy: 0.7500\n",
      "1/1 [==============================] - 0s 112ms/step - loss: 1.4155 - accuracy: 0.0000e+00\n",
      "1/1 [==============================] - 0s 115ms/step - loss: 1.5442 - accuracy: 0.0000e+00\n",
      "1/1 [==============================] - 0s 112ms/step - loss: 1.3638 - accuracy: 0.0000e+00\n",
      "1/1 [==============================] - 0s 111ms/step - loss: 1.3412 - accuracy: 0.2500\n",
      "1/1 [==============================] - 0s 112ms/step - loss: 1.3613 - accuracy: 0.5000\n",
      "1/1 [==============================] - 0s 111ms/step - loss: 1.4262 - accuracy: 0.2500\n",
      "1/1 [==============================] - 0s 114ms/step - loss: 1.3696 - accuracy: 0.0000e+00\n",
      "1/1 [==============================] - 0s 113ms/step - loss: 1.5167 - accuracy: 0.2500\n",
      "1/1 [==============================] - 0s 114ms/step - loss: 1.3914 - accuracy: 0.0000e+00\n",
      "1/1 [==============================] - 0s 115ms/step - loss: 1.3537 - accuracy: 0.2500\n",
      "1/1 [==============================] - 0s 113ms/step - loss: 1.3459 - accuracy: 0.5000\n",
      "1/1 [==============================] - 0s 112ms/step - loss: 1.3518 - accuracy: 0.2500\n",
      "1/1 [==============================] - 0s 112ms/step - loss: 1.3628 - accuracy: 0.2500\n",
      "1/1 [==============================] - 0s 117ms/step - loss: 1.5300 - accuracy: 0.0000e+00\n",
      "1/1 [==============================] - 0s 359ms/step - loss: 1.2984 - accuracy: 0.2500\n",
      "1/1 [==============================] - 0s 118ms/step - loss: 1.4964 - accuracy: 0.0000e+00\n",
      "1/1 [==============================] - 0s 114ms/step - loss: 1.3392 - accuracy: 0.2500\n",
      "1/1 [==============================] - 0s 112ms/step - loss: 1.4112 - accuracy: 0.2500\n",
      "1/1 [==============================] - 0s 111ms/step - loss: 1.4428 - accuracy: 0.0000e+00\n",
      "1/1 [==============================] - 0s 110ms/step - loss: 1.6382 - accuracy: 0.0000e+00\n",
      "1/1 [==============================] - 0s 111ms/step - loss: 1.4560 - accuracy: 0.0000e+00\n",
      "1/1 [==============================] - 0s 112ms/step - loss: 1.4947 - accuracy: 0.0000e+00\n",
      "1/1 [==============================] - 0s 113ms/step - loss: 1.2346 - accuracy: 0.5000\n",
      "1/1 [==============================] - 0s 113ms/step - loss: 1.4597 - accuracy: 0.0000e+00\n",
      "1/1 [==============================] - 0s 111ms/step - loss: 1.2873 - accuracy: 0.2500\n",
      "1/1 [==============================] - 0s 113ms/step - loss: 1.3507 - accuracy: 0.5000\n",
      "1/1 [==============================] - 0s 111ms/step - loss: 1.3548 - accuracy: 0.0000e+00\n",
      "1/1 [==============================] - 0s 110ms/step - loss: 1.4793 - accuracy: 0.0000e+00\n",
      "1/1 [==============================] - 0s 112ms/step - loss: 1.5054 - accuracy: 0.0000e+00\n",
      "1/1 [==============================] - 0s 110ms/step - loss: 1.4853 - accuracy: 0.2500\n",
      "1/1 [==============================] - 0s 113ms/step - loss: 1.5459 - accuracy: 0.0000e+00\n",
      "1/1 [==============================] - 0s 111ms/step - loss: 1.2931 - accuracy: 1.0000\n",
      "1/1 [==============================] - 0s 111ms/step - loss: 1.1805 - accuracy: 0.7500\n",
      "1/1 [==============================] - 0s 114ms/step - loss: 1.4642 - accuracy: 0.0000e+00\n",
      "1/1 [==============================] - 0s 112ms/step - loss: 1.3316 - accuracy: 0.5000\n",
      "1/1 [==============================] - 0s 109ms/step - loss: 1.2168 - accuracy: 0.5000\n",
      "1/1 [==============================] - 0s 114ms/step - loss: 1.4626 - accuracy: 0.0000e+00\n",
      "1/1 [==============================] - 0s 114ms/step - loss: 1.1504 - accuracy: 0.7500\n",
      "1/1 [==============================] - 0s 116ms/step - loss: 1.4788 - accuracy: 0.0000e+00\n",
      "1/1 [==============================] - 0s 111ms/step - loss: 1.2306 - accuracy: 0.2500\n",
      "1/1 [==============================] - 0s 112ms/step - loss: 1.4315 - accuracy: 0.0000e+00\n",
      "1/1 [==============================] - 0s 115ms/step - loss: 1.4757 - accuracy: 0.0000e+00\n",
      "1/1 [==============================] - 0s 115ms/step - loss: 1.4420 - accuracy: 0.2500\n",
      "1/1 [==============================] - 0s 117ms/step - loss: 1.2153 - accuracy: 0.7500\n",
      "1/1 [==============================] - 0s 115ms/step - loss: 1.3823 - accuracy: 0.0000e+00\n",
      "1/1 [==============================] - 0s 112ms/step - loss: 1.3745 - accuracy: 0.2500\n",
      "1/1 [==============================] - 0s 113ms/step - loss: 1.4251 - accuracy: 0.2500\n",
      "1/1 [==============================] - 0s 113ms/step - loss: 1.4471 - accuracy: 0.0000e+00\n",
      "1/1 [==============================] - 0s 112ms/step - loss: 1.3401 - accuracy: 0.5000\n",
      "1/1 [==============================] - 0s 114ms/step - loss: 1.3302 - accuracy: 0.5000\n",
      "1/1 [==============================] - 0s 113ms/step - loss: 1.3954 - accuracy: 0.2500\n",
      "1/1 [==============================] - 0s 115ms/step - loss: 1.3833 - accuracy: 0.2500\n",
      "1/1 [==============================] - 0s 112ms/step - loss: 1.3001 - accuracy: 0.5000\n",
      "1/1 [==============================] - 0s 113ms/step - loss: 1.3861 - accuracy: 0.2500\n",
      "1/1 [==============================] - 0s 115ms/step - loss: 1.5576 - accuracy: 0.0000e+00\n",
      "1/1 [==============================] - 0s 115ms/step - loss: 1.4371 - accuracy: 0.2500\n",
      "1/1 [==============================] - 0s 117ms/step - loss: 1.4369 - accuracy: 0.0000e+00\n",
      "1/1 [==============================] - 0s 110ms/step - loss: 1.3872 - accuracy: 0.2500\n",
      "1/1 [==============================] - 0s 118ms/step - loss: 1.3507 - accuracy: 0.5000\n",
      "1/1 [==============================] - 0s 111ms/step - loss: 1.4052 - accuracy: 0.5000\n",
      "1/1 [==============================] - 0s 113ms/step - loss: 1.5714 - accuracy: 0.0000e+00\n",
      "1/1 [==============================] - 0s 115ms/step - loss: 1.2471 - accuracy: 0.5000\n",
      "1/1 [==============================] - 0s 114ms/step - loss: 1.5335 - accuracy: 0.0000e+00\n",
      "1/1 [==============================] - 0s 131ms/step - loss: 1.4554 - accuracy: 0.0000e+00\n",
      "1/1 [==============================] - 0s 114ms/step - loss: 1.6438 - accuracy: 0.0000e+00\n",
      "1/1 [==============================] - 0s 115ms/step - loss: 1.5216 - accuracy: 0.2500\n",
      "1/1 [==============================] - 0s 112ms/step - loss: 1.4169 - accuracy: 0.0000e+00\n",
      "1/1 [==============================] - 0s 111ms/step - loss: 1.3667 - accuracy: 0.0000e+00\n",
      "1/1 [==============================] - 0s 116ms/step - loss: 1.3999 - accuracy: 0.2500\n",
      "1/1 [==============================] - 0s 113ms/step - loss: 1.3812 - accuracy: 0.5000\n",
      "1/1 [==============================] - 0s 111ms/step - loss: 1.2686 - accuracy: 0.5000\n",
      "1/1 [==============================] - 0s 112ms/step - loss: 1.3965 - accuracy: 0.5000\n",
      "1/1 [==============================] - 0s 111ms/step - loss: 1.5160 - accuracy: 0.0000e+00\n",
      "1/1 [==============================] - 0s 116ms/step - loss: 1.4608 - accuracy: 0.2500\n",
      "1/1 [==============================] - 0s 111ms/step - loss: 1.3135 - accuracy: 0.2500\n",
      "1/1 [==============================] - 0s 132ms/step - loss: 1.5151 - accuracy: 0.0000e+00\n",
      "1/1 [==============================] - 0s 116ms/step - loss: 1.4311 - accuracy: 0.0000e+00\n",
      "1/1 [==============================] - 0s 123ms/step - loss: 1.7527 - accuracy: 0.0000e+00\n",
      "1/1 [==============================] - 0s 131ms/step - loss: 1.4669 - accuracy: 0.5000\n",
      "1/1 [==============================] - 0s 117ms/step - loss: 1.4251 - accuracy: 0.2500\n",
      "1/1 [==============================] - 0s 133ms/step - loss: 1.4371 - accuracy: 0.5000\n",
      "1/1 [==============================] - 0s 133ms/step - loss: 1.2893 - accuracy: 0.7500\n",
      "1/1 [==============================] - 0s 138ms/step - loss: 1.2298 - accuracy: 0.7500\n",
      "1/1 [==============================] - 0s 127ms/step - loss: 1.4577 - accuracy: 0.0000e+00\n",
      "1/1 [==============================] - 0s 126ms/step - loss: 1.3363 - accuracy: 0.5000\n",
      "1/1 [==============================] - 0s 125ms/step - loss: 1.4331 - accuracy: 0.2500\n",
      "1/1 [==============================] - 0s 127ms/step - loss: 1.7648 - accuracy: 0.0000e+00\n",
      "1/1 [==============================] - 0s 131ms/step - loss: 1.4035 - accuracy: 0.0000e+00\n",
      "1/1 [==============================] - 0s 130ms/step - loss: 1.4472 - accuracy: 0.0000e+00\n",
      "1/1 [==============================] - 0s 123ms/step - loss: 1.3412 - accuracy: 0.5000\n",
      "1/1 [==============================] - 0s 123ms/step - loss: 1.2588 - accuracy: 0.5000\n",
      "Best Parameters: [32.26651832  4.41614962  0.38263154]\n",
      "Best Validation Accuracy: 0.75\n"
     ]
    }
   ],
   "execution_count": 8
  },
  {
   "metadata": {
    "ExecuteTime": {
     "end_time": "2024-04-16T03:57:22.023319Z",
     "start_time": "2024-04-16T03:53:30.362675Z"
    }
   },
   "cell_type": "code",
   "source": [
    "# Create the final model using the best parameters found by DESSA\n",
    "final_model = create_cnn_model(best_params, input_shape=(32, 32, 3), num_classes=4)  # Adjusted num_classes to 4 to match your dataset\n",
    "\n",
    "# Fit the final model using the training and validation generators\n",
    "# Here, we are using 'fit_generator' which is recommended for use with data generators\n",
    "final_history = final_model.fit(\n",
    "    train_generator,\n",
    "    steps_per_epoch=train_generator.samples // train_generator.batch_size,  # Total number of steps (batches of samples) to yield from generator before declaring one epoch finished and starting the next epoch.\n",
    "    epochs=20,  # You can adjust the number of epochs based on how thorough you want the training to be\n",
    "    validation_data=validation_generator,\n",
    "    validation_steps=validation_generator.samples // validation_generator.batch_size,  # Total number of steps (batches of samples) to yield from validation generator per epoch\n",
    "    verbose=1  # Set verbose to 1 for detailed log output\n",
    ")\n",
    "\n",
    "# Print the accuracy of the final model on the test set (using validation data as a proxy for test data)\n",
    "print(\"Final model accuracy on validation set:\", final_history.history['val_accuracy'][-1])"
   ],
   "id": "35e8701663c060c5",
   "outputs": [
    {
     "name": "stdout",
     "output_type": "stream",
     "text": [
      "Epoch 1/20\n",
      "1280/1280 [==============================] - 12s 9ms/step - loss: 0.9815 - accuracy: 0.5261 - val_loss: 1.1466 - val_accuracy: 0.4146\n",
      "Epoch 2/20\n",
      "1280/1280 [==============================] - 11s 9ms/step - loss: 0.8523 - accuracy: 0.5951 - val_loss: 1.2648 - val_accuracy: 0.4161\n",
      "Epoch 3/20\n",
      "1280/1280 [==============================] - 11s 9ms/step - loss: 0.7519 - accuracy: 0.6535 - val_loss: 1.3924 - val_accuracy: 0.3660\n",
      "Epoch 4/20\n",
      "1280/1280 [==============================] - 11s 9ms/step - loss: 0.6452 - accuracy: 0.7162 - val_loss: 1.3875 - val_accuracy: 0.4365\n",
      "Epoch 5/20\n",
      "1280/1280 [==============================] - 14s 11ms/step - loss: 0.5798 - accuracy: 0.7526 - val_loss: 1.5154 - val_accuracy: 0.3926\n",
      "Epoch 6/20\n",
      "1280/1280 [==============================] - 11s 9ms/step - loss: 0.4918 - accuracy: 0.7930 - val_loss: 1.3624 - val_accuracy: 0.4828\n",
      "Epoch 7/20\n",
      "1280/1280 [==============================] - 11s 9ms/step - loss: 0.4155 - accuracy: 0.8323 - val_loss: 1.3508 - val_accuracy: 0.4969\n",
      "Epoch 8/20\n",
      "1280/1280 [==============================] - 12s 9ms/step - loss: 0.3610 - accuracy: 0.8550 - val_loss: 1.5759 - val_accuracy: 0.5071\n",
      "Epoch 9/20\n",
      "1280/1280 [==============================] - 11s 9ms/step - loss: 0.3232 - accuracy: 0.8714 - val_loss: 1.4962 - val_accuracy: 0.5180\n",
      "Epoch 10/20\n",
      "1280/1280 [==============================] - 12s 9ms/step - loss: 0.3001 - accuracy: 0.8784 - val_loss: 1.4031 - val_accuracy: 0.5212\n",
      "Epoch 11/20\n",
      "1280/1280 [==============================] - 12s 9ms/step - loss: 0.2720 - accuracy: 0.8990 - val_loss: 1.4338 - val_accuracy: 0.5329\n",
      "Epoch 12/20\n",
      "1280/1280 [==============================] - 11s 9ms/step - loss: 0.2470 - accuracy: 0.9052 - val_loss: 1.4801 - val_accuracy: 0.5650\n",
      "Epoch 13/20\n",
      "1280/1280 [==============================] - 11s 9ms/step - loss: 0.2307 - accuracy: 0.9175 - val_loss: 1.7384 - val_accuracy: 0.5321\n",
      "Epoch 14/20\n",
      "1280/1280 [==============================] - 11s 9ms/step - loss: 0.2016 - accuracy: 0.9261 - val_loss: 1.8416 - val_accuracy: 0.5400\n",
      "Epoch 15/20\n",
      "1280/1280 [==============================] - 11s 9ms/step - loss: 0.1859 - accuracy: 0.9287 - val_loss: 1.8419 - val_accuracy: 0.5729\n",
      "Epoch 16/20\n",
      "1280/1280 [==============================] - 11s 9ms/step - loss: 0.1863 - accuracy: 0.9300 - val_loss: 1.8553 - val_accuracy: 0.5556\n",
      "Epoch 17/20\n",
      "1280/1280 [==============================] - 11s 9ms/step - loss: 0.1733 - accuracy: 0.9380 - val_loss: 1.6570 - val_accuracy: 0.5627\n",
      "Epoch 18/20\n",
      "1280/1280 [==============================] - 12s 9ms/step - loss: 0.1968 - accuracy: 0.9265 - val_loss: 1.3713 - val_accuracy: 0.6042\n",
      "Epoch 19/20\n",
      "1280/1280 [==============================] - 11s 9ms/step - loss: 0.1581 - accuracy: 0.9404 - val_loss: 1.3614 - val_accuracy: 0.6050\n",
      "Epoch 20/20\n",
      "1280/1280 [==============================] - 12s 9ms/step - loss: 0.1391 - accuracy: 0.9474 - val_loss: 2.1889 - val_accuracy: 0.5368\n",
      "Final model accuracy on validation set: 0.5368338823318481\n"
     ]
    }
   ],
   "execution_count": 9
  },
  {
   "metadata": {},
   "cell_type": "code",
   "outputs": [],
   "execution_count": null,
   "source": "",
   "id": "4033616369a7335a"
  }
 ],
 "metadata": {
  "kernelspec": {
   "display_name": "Python 3",
   "language": "python",
   "name": "python3"
  },
  "language_info": {
   "codemirror_mode": {
    "name": "ipython",
    "version": 2
   },
   "file_extension": ".py",
   "mimetype": "text/x-python",
   "name": "python",
   "nbconvert_exporter": "python",
   "pygments_lexer": "ipython2",
   "version": "2.7.6"
  }
 },
 "nbformat": 4,
 "nbformat_minor": 5
}
