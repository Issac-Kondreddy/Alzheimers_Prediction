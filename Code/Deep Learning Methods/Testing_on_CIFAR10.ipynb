{
 "cells": [
  {
   "cell_type": "code",
   "id": "initial_id",
   "metadata": {
    "collapsed": true,
    "ExecuteTime": {
     "end_time": "2024-04-13T18:14:36.049895Z",
     "start_time": "2024-04-13T18:14:34.483244Z"
    }
   },
   "source": [
    "import sys\n",
    "sys.path.append('../Metaheuristic Algorithms/') \n",
    "import numpy as np\n",
    "import tensorflow as tf\n",
    "from tensorflow.keras.datasets import cifar10\n",
    "from tensorflow.keras.utils import to_categorical\n",
    "from tensorflow.keras.models import Sequential\n",
    "from tensorflow.keras.layers import Conv2D, MaxPooling2D, Dropout, Flatten, Dense\n",
    "from DESSA import DESSA  # Importing your DESSA class from the DESSA.py file"
   ],
   "outputs": [],
   "execution_count": 1
  },
  {
   "metadata": {
    "ExecuteTime": {
     "end_time": "2024-04-13T18:15:30.495203Z",
     "start_time": "2024-04-13T18:15:29.656375Z"
    }
   },
   "cell_type": "code",
   "source": [
    "# Load CIFAR-10 data\n",
    "(x_train, y_train), (x_test, y_test) = cifar10.load_data()\n",
    "\n",
    "# Normalize pixel values to be between 0 and 1\n",
    "x_train, x_test = x_train / 255.0, x_test / 255.0\n",
    "\n",
    "# One-hot encode the labels\n",
    "y_train, y_test = to_categorical(y_train), to_categorical(y_test)"
   ],
   "id": "582f7c9598051673",
   "outputs": [],
   "execution_count": 2
  },
  {
   "metadata": {
    "ExecuteTime": {
     "end_time": "2024-04-13T18:15:41.757544Z",
     "start_time": "2024-04-13T18:15:41.752360Z"
    }
   },
   "cell_type": "code",
   "source": [
    "def create_cnn_model(params, input_shape=(32, 32, 3), num_classes=10):\n",
    "    num_filters, filter_size, dropout_rate = int(params[0]), int(params[1]), params[2]\n",
    "    model = Sequential([\n",
    "        Conv2D(num_filters, (filter_size, filter_size), padding='same', activation='relu', input_shape=input_shape),\n",
    "        MaxPooling2D(pool_size=(2, 2)),\n",
    "        Dropout(dropout_rate),\n",
    "        Flatten(),\n",
    "        Dense(256, activation='relu'),\n",
    "        Dropout(0.5),\n",
    "        Dense(num_classes, activation='softmax')\n",
    "    ])\n",
    "    model.compile(optimizer='adam', loss='categorical_crossentropy', metrics=['accuracy'])\n",
    "    return model"
   ],
   "id": "7de000f54f603b97",
   "outputs": [],
   "execution_count": 3
  },
  {
   "metadata": {
    "ExecuteTime": {
     "end_time": "2024-04-13T18:15:51.091573Z",
     "start_time": "2024-04-13T18:15:51.088944Z"
    }
   },
   "cell_type": "code",
   "source": [
    "def objective_function(params):\n",
    "    model = create_cnn_model(params)\n",
    "    history = model.fit(x_train, y_train, epochs=3, batch_size=64, validation_split=0.1, verbose=0)\n",
    "    return -max(history.history['val_accuracy'])  # Negative accuracy for minimization"
   ],
   "id": "74fafcba9fbc2ca1",
   "outputs": [],
   "execution_count": 4
  },
  {
   "metadata": {
    "ExecuteTime": {
     "end_time": "2024-04-13T20:10:48.320384Z",
     "start_time": "2024-04-13T18:16:04.356309Z"
    }
   },
   "cell_type": "code",
   "source": [
    "# Define bounds for DESSA parameters: number of filters, filter size, and dropout rate\n",
    "bounds = [(16, 64), (2, 5), (0.1, 0.5)]\n",
    "\n",
    "# Initialize DESSA with the objective function, bounds, population size, and number of iterations\n",
    "dessa_optimizer = DESSA(objective_function, bounds, population_size=10, iterations=10)\n",
    "\n",
    "# Perform optimization\n",
    "best_params, best_fitness, fitness_history = dessa_optimizer.optimize()\n",
    "\n",
    "# Output the best parameters and the corresponding validation accuracy\n",
    "print(\"Best Parameters:\", best_params)\n",
    "print(\"Best Validation Accuracy:\", -best_fitness)  # Convert fitness back to positive for accuracy"
   ],
   "id": "4dec6364eeb1d1c0",
   "outputs": [
    {
     "name": "stdout",
     "output_type": "stream",
     "text": [
      "Best Parameters: [48.9914755   4.17604678  0.36770232]\n",
      "Best Validation Accuracy: 0.6326000094413757\n"
     ]
    }
   ],
   "execution_count": 5
  },
  {
   "metadata": {
    "ExecuteTime": {
     "end_time": "2024-04-13T20:15:59.308771Z",
     "start_time": "2024-04-13T20:10:48.327705Z"
    }
   },
   "cell_type": "code",
   "source": [
    "final_model = create_cnn_model(best_params, input_shape=(32, 32, 3), num_classes=10)\n",
    "final_history = final_model.fit(x_train, y_train, epochs=20, validation_data=(x_test, y_test), verbose=1)\n",
    "print(\"Final model accuracy on test set:\", final_history.history['val_accuracy'][-1])"
   ],
   "id": "358bc8566f003905",
   "outputs": [
    {
     "name": "stdout",
     "output_type": "stream",
     "text": [
      "Epoch 1/20\n",
      "1563/1563 [==============================] - 17s 11ms/step - loss: 1.6319 - accuracy: 0.4081 - val_loss: 1.3404 - val_accuracy: 0.5264\n",
      "Epoch 2/20\n",
      "1563/1563 [==============================] - 16s 10ms/step - loss: 1.3790 - accuracy: 0.5049 - val_loss: 1.1905 - val_accuracy: 0.5815\n",
      "Epoch 3/20\n",
      "1563/1563 [==============================] - 15s 10ms/step - loss: 1.2784 - accuracy: 0.5444 - val_loss: 1.1752 - val_accuracy: 0.5837\n",
      "Epoch 4/20\n",
      "1563/1563 [==============================] - 15s 10ms/step - loss: 1.2116 - accuracy: 0.5670 - val_loss: 1.1270 - val_accuracy: 0.6014\n",
      "Epoch 5/20\n",
      "1563/1563 [==============================] - 15s 10ms/step - loss: 1.1609 - accuracy: 0.5887 - val_loss: 1.0786 - val_accuracy: 0.6202\n",
      "Epoch 6/20\n",
      "1563/1563 [==============================] - 15s 10ms/step - loss: 1.1170 - accuracy: 0.6056 - val_loss: 1.0661 - val_accuracy: 0.6258\n",
      "Epoch 7/20\n",
      "1563/1563 [==============================] - 15s 10ms/step - loss: 1.0785 - accuracy: 0.6147 - val_loss: 1.0141 - val_accuracy: 0.6464\n",
      "Epoch 8/20\n",
      "1563/1563 [==============================] - 16s 10ms/step - loss: 1.0470 - accuracy: 0.6285 - val_loss: 0.9985 - val_accuracy: 0.6528\n",
      "Epoch 9/20\n",
      "1563/1563 [==============================] - 16s 10ms/step - loss: 1.0132 - accuracy: 0.6407 - val_loss: 1.0077 - val_accuracy: 0.6456\n",
      "Epoch 10/20\n",
      "1563/1563 [==============================] - 15s 10ms/step - loss: 0.9988 - accuracy: 0.6451 - val_loss: 0.9889 - val_accuracy: 0.6534\n",
      "Epoch 11/20\n",
      "1563/1563 [==============================] - 15s 10ms/step - loss: 0.9595 - accuracy: 0.6567 - val_loss: 0.9855 - val_accuracy: 0.6564\n",
      "Epoch 12/20\n",
      "1563/1563 [==============================] - 15s 10ms/step - loss: 0.9458 - accuracy: 0.6621 - val_loss: 0.9790 - val_accuracy: 0.6559\n",
      "Epoch 13/20\n",
      "1563/1563 [==============================] - 15s 10ms/step - loss: 0.9183 - accuracy: 0.6704 - val_loss: 0.9740 - val_accuracy: 0.6596\n",
      "Epoch 14/20\n",
      "1563/1563 [==============================] - 16s 10ms/step - loss: 0.8986 - accuracy: 0.6788 - val_loss: 0.9809 - val_accuracy: 0.6620\n",
      "Epoch 15/20\n",
      "1563/1563 [==============================] - 15s 10ms/step - loss: 0.8868 - accuracy: 0.6835 - val_loss: 0.9758 - val_accuracy: 0.6570\n",
      "Epoch 16/20\n",
      "1563/1563 [==============================] - 15s 10ms/step - loss: 0.8668 - accuracy: 0.6907 - val_loss: 0.9970 - val_accuracy: 0.6601\n",
      "Epoch 17/20\n",
      "1563/1563 [==============================] - 15s 10ms/step - loss: 0.8491 - accuracy: 0.6956 - val_loss: 0.9670 - val_accuracy: 0.6668\n",
      "Epoch 18/20\n",
      "1563/1563 [==============================] - 15s 10ms/step - loss: 0.8248 - accuracy: 0.7064 - val_loss: 0.9655 - val_accuracy: 0.6710\n",
      "Epoch 19/20\n",
      "1563/1563 [==============================] - 15s 10ms/step - loss: 0.8200 - accuracy: 0.7056 - val_loss: 0.9771 - val_accuracy: 0.6646\n",
      "Epoch 20/20\n",
      "1563/1563 [==============================] - 15s 10ms/step - loss: 0.7987 - accuracy: 0.7129 - val_loss: 1.0017 - val_accuracy: 0.6633\n",
      "Final model accuracy on test set: 0.6632999777793884\n"
     ]
    }
   ],
   "execution_count": 6
  },
  {
   "metadata": {},
   "cell_type": "code",
   "outputs": [],
   "execution_count": null,
   "source": "",
   "id": "bae1a6bc70265ea1"
  }
 ],
 "metadata": {
  "kernelspec": {
   "display_name": "Python 3",
   "language": "python",
   "name": "python3"
  },
  "language_info": {
   "codemirror_mode": {
    "name": "ipython",
    "version": 2
   },
   "file_extension": ".py",
   "mimetype": "text/x-python",
   "name": "python",
   "nbconvert_exporter": "python",
   "pygments_lexer": "ipython2",
   "version": "2.7.6"
  }
 },
 "nbformat": 4,
 "nbformat_minor": 5
}
